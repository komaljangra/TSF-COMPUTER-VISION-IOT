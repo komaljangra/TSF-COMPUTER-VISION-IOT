{
 "cells": [
  {
   "cell_type": "markdown",
   "id": "50b988ac",
   "metadata": {},
   "source": [
    "# COLOR IDENTIFICATION IN IMAGES"
   ]
  },
  {
   "cell_type": "markdown",
   "id": "f78f6ae0",
   "metadata": {},
   "source": [
    "**AUTHOR :KOMAL JANGRA**"
   ]
  },
  {
   "cell_type": "code",
   "execution_count": 1,
   "id": "c8f84f57",
   "metadata": {},
   "outputs": [
    {
     "data": {
      "text/html": [
       "<img src=\"IOT1.jpg\" width=\"700\" height=\"700\"/>"
      ],
      "text/plain": [
       "<IPython.core.display.Image object>"
      ]
     },
     "execution_count": 1,
     "metadata": {},
     "output_type": "execute_result"
    }
   ],
   "source": [
    "from IPython.display import Image\n",
    "img = 'IOT1.jpg'\n",
    "Image(url=img , width = 700 , height = 700)"
   ]
  },
  {
   "cell_type": "markdown",
   "id": "e5852d96",
   "metadata": {},
   "source": [
    "OBJECTIVE:\n",
    "\n",
    "Implement an image color detector which identifies all  the colors in an image or video."
   ]
  },
  {
   "cell_type": "code",
   "execution_count": 2,
   "id": "301c4342",
   "metadata": {},
   "outputs": [],
   "source": [
    "import pandas as pd\n",
    "import cv2\n",
    "import numpy as np"
   ]
  },
  {
   "cell_type": "code",
   "execution_count": 3,
   "id": "e0daf634",
   "metadata": {},
   "outputs": [],
   "source": [
    "img_path = 'colorpic.jpg'\n",
    "csv_path = 'colors.csv'"
   ]
  },
  {
   "cell_type": "code",
   "execution_count": 4,
   "id": "1504cf2f",
   "metadata": {},
   "outputs": [],
   "source": [
    "index = ['color','color_name', 'hex' , 'R','G','B']"
   ]
  },
  {
   "cell_type": "code",
   "execution_count": 5,
   "id": "a7c0151f",
   "metadata": {},
   "outputs": [],
   "source": [
    "df=pd.read_csv(csv_path,names=index , header = None)"
   ]
  },
  {
   "cell_type": "code",
   "execution_count": 6,
   "id": "6e110a70",
   "metadata": {},
   "outputs": [],
   "source": [
    "img =cv2.imread(img_path)\n",
    "img = cv2.resize(img,(800,600))"
   ]
  },
  {
   "cell_type": "code",
   "execution_count": 7,
   "id": "d56dbf35",
   "metadata": {},
   "outputs": [],
   "source": [
    "clicked = False\n",
    "r=g=b=ypos=0"
   ]
  },
  {
   "cell_type": "code",
   "execution_count": 8,
   "id": "594a56c3",
   "metadata": {},
   "outputs": [],
   "source": [
    "def get_color_name(R,G,B):\n",
    "    minimum = 1000\n",
    "    for i in range (len(df)):\n",
    "        d = abs(R-int(df.loc[i, 'R']))+abs(G-int(df.loc[i, 'G']))+abs(B-int(df.loc[i,'B']))\n",
    "        if d <=minimum:\n",
    "             minimum = d\n",
    "             cName = df.loc[i ,'color_name']\n",
    "    return cName"
   ]
  },
  {
   "cell_type": "code",
   "execution_count": 9,
   "id": "9beca0d2",
   "metadata": {},
   "outputs": [],
   "source": [
    "def draw(event,x,y,flags,params):\n",
    "    if event==cv2.EVENT_LBUTTONDBLCLK:\n",
    "        global clicked, r,g,b,xpos,ypos\n",
    "        clicked = True\n",
    "        xpos=x\n",
    "        ypos=y\n",
    "        b,g,r=img[y,x]\n",
    "        b=int(b)\n",
    "        g=int(g)\n",
    "        r=int(r)"
   ]
  },
  {
   "cell_type": "code",
   "execution_count": null,
   "id": "eb3e868a",
   "metadata": {},
   "outputs": [],
   "source": [
    "cv2.namedWindow('Image')\n",
    "cv2.setMouseCallback('Image',draw)\n",
    "while True:\n",
    "    cv2.imshow('Image',img)\n",
    "    if clicked:\n",
    "        cv2.rectangle(img,(20,20),(600,60),(b,g,r),-1)\n",
    "        text=get_color_name(r,g,b)+' R='+str(r)+' G='+str(g)+' B='+str(b)\n",
    "        cv2.putText(img,text,(50,50),2,0.8,(255,255,255),2,cv2.LINE_AA)\n",
    "        if r+g+b>=600:\n",
    "            cv2.putText(img,text,(50,50),2,0.8,(0,0,0),2,cv2.LINE_AA)\n",
    "    if (cv2.waitKey(10) and 0xFF ==27):\n",
    "         break"
   ]
  },
  {
   "cell_type": "code",
   "execution_count": null,
   "id": "dd0f1620",
   "metadata": {},
   "outputs": [],
   "source": []
  }
 ],
 "metadata": {
  "kernelspec": {
   "display_name": "Python 3",
   "language": "python",
   "name": "python3"
  },
  "language_info": {
   "codemirror_mode": {
    "name": "ipython",
    "version": 3
   },
   "file_extension": ".py",
   "mimetype": "text/x-python",
   "name": "python",
   "nbconvert_exporter": "python",
   "pygments_lexer": "ipython3",
   "version": "3.8.8"
  }
 },
 "nbformat": 4,
 "nbformat_minor": 5
}
